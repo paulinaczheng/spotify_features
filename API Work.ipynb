{
 "cells": [
  {
   "cell_type": "code",
   "execution_count": 1,
   "metadata": {},
   "outputs": [],
   "source": [
    "def merge_two_dicts(x, y):\n",
    "    z = x.copy()   # start with x's keys and values\n",
    "    z.update(y)    # modifies z with y's keys and values & returns None\n",
    "    return z"
   ]
  },
  {
   "cell_type": "code",
   "execution_count": 3,
   "metadata": {},
   "outputs": [],
   "source": [
    "import requests\n",
    "import pandas as pd\n",
    "import json\n",
    "#dictionary of artist id's\n",
    "dict_of_ids = {'weeknd':\"1Xyo4u8uXC1ZmMpatF05PJ\", 'pluth':\"6VuMaDnrHyPL1p4EHjYLi7\",'cardi':\"4kYSro6naA4h99UJvo89HB\"}\n",
    "\n",
    "#Key for api's\n",
    "api_key = \"BQD5WwzzrfSVuzRXpSN1F87W247_e08wQZxZmwFyQWMWbsxGF3D4-C7JgA7QpxYQhAiv8Leh8u75B3vwdyJU9woDqd1_EYCfLp66Eblb3gtbSnKHsWhMxgdKM9GSaYCYH5KYUgGHWUvI\"\n",
    "#Headers for Spotify API\n",
    "\n",
    "headers = {'Accept': 'application/json',\n",
    "\n",
    "'Content-Type': 'application/json',\n",
    "\n",
    "'Authorization': 'Bearer {}'.format(api_key)}\n",
    "\n",
    "\n",
    "\n",
    "\n",
    "\n"
   ]
  },
  {
   "cell_type": "code",
   "execution_count": 224,
   "metadata": {},
   "outputs": [],
   "source": [
    "#function to format all artist id's properly for API\n",
    "def url_of_artist_ids():\n",
    "    x=[id for id in dict_of_ids.values()]\n",
    "    merge = '%2C'.join(x)\n",
    "    return \"https://api.spotify.com/v1/artists\" + \"?ids=\" + merge\n",
    "\n",
    "\n",
    "#to call API for all artists\n",
    "response_artists = requests.get(url_of_artist_ids(), headers=headers)\n",
    "artists_raw = json.loads(response_artists.content)\n",
    "artists_clean = [artist for artist in artists_raw['artists']]"
   ]
  },
  {
   "cell_type": "code",
   "execution_count": 5,
   "metadata": {},
   "outputs": [
    {
     "ename": "NameError",
     "evalue": "name 'artist_top_tracks' is not defined",
     "output_type": "error",
     "traceback": [
      "\u001b[0;31m---------------------------------------------------------------------------\u001b[0m",
      "\u001b[0;31mNameError\u001b[0m                                 Traceback (most recent call last)",
      "\u001b[0;32m<ipython-input-5-613bd99d35c2>\u001b[0m in \u001b[0;36m<module>\u001b[0;34m()\u001b[0m\n\u001b[1;32m     13\u001b[0m     \u001b[0;32mreturn\u001b[0m \u001b[0mlist_dicts\u001b[0m\u001b[0;34m\u001b[0m\u001b[0m\n\u001b[1;32m     14\u001b[0m \u001b[0;34m\u001b[0m\u001b[0m\n\u001b[0;32m---> 15\u001b[0;31m \u001b[0mtop_tracks_dict\u001b[0m\u001b[0;34m(\u001b[0m\u001b[0;34m)\u001b[0m\u001b[0;34m\u001b[0m\u001b[0m\n\u001b[0m",
      "\u001b[0;32m<ipython-input-5-613bd99d35c2>\u001b[0m in \u001b[0;36mtop_tracks_dict\u001b[0;34m()\u001b[0m\n\u001b[1;32m      7\u001b[0m \u001b[0;32mdef\u001b[0m \u001b[0mtop_tracks_dict\u001b[0m\u001b[0;34m(\u001b[0m\u001b[0;34m)\u001b[0m\u001b[0;34m:\u001b[0m\u001b[0;34m\u001b[0m\u001b[0m\n\u001b[1;32m      8\u001b[0m     \u001b[0mlist_dicts\u001b[0m \u001b[0;34m=\u001b[0m \u001b[0;34m[\u001b[0m\u001b[0;34m]\u001b[0m\u001b[0;34m\u001b[0m\u001b[0m\n\u001b[0;32m----> 9\u001b[0;31m     \u001b[0;32mfor\u001b[0m \u001b[0murl\u001b[0m \u001b[0;32min\u001b[0m \u001b[0martist_top_tracks\u001b[0m\u001b[0;34m(\u001b[0m\u001b[0;34m)\u001b[0m\u001b[0;34m:\u001b[0m\u001b[0;34m\u001b[0m\u001b[0m\n\u001b[0m\u001b[1;32m     10\u001b[0m         \u001b[0mresponse_artists\u001b[0m \u001b[0;34m=\u001b[0m \u001b[0mrequests\u001b[0m\u001b[0;34m.\u001b[0m\u001b[0mget\u001b[0m\u001b[0;34m(\u001b[0m\u001b[0murl\u001b[0m\u001b[0;34m,\u001b[0m \u001b[0mheaders\u001b[0m\u001b[0;34m=\u001b[0m\u001b[0mheaders\u001b[0m\u001b[0;34m)\u001b[0m\u001b[0;34m\u001b[0m\u001b[0m\n\u001b[1;32m     11\u001b[0m         \u001b[0mtrack_dict\u001b[0m \u001b[0;34m=\u001b[0m \u001b[0mjson\u001b[0m\u001b[0;34m.\u001b[0m\u001b[0mloads\u001b[0m\u001b[0;34m(\u001b[0m\u001b[0mresponse_artists\u001b[0m\u001b[0;34m.\u001b[0m\u001b[0mcontent\u001b[0m\u001b[0;34m)\u001b[0m\u001b[0;34m\u001b[0m\u001b[0m\n",
      "\u001b[0;31mNameError\u001b[0m: name 'artist_top_tracks' is not defined"
     ]
    }
   ],
   "source": [
    "#function get list of API's to call for each artist's top tracks\n",
    "def url_artist_top_tracks():\n",
    "    x=[id for id in dict_of_ids.values()]\n",
    "    return [\"https://api.spotify.com/v1/artists/{id}/top-tracks\".format(id=artist_id)+'?country=US' for artist_id in x]\n",
    "\n",
    "#function to get list of dictionaries with each artist's top tracks (all coming from dict of artist id's)\n",
    "def top_tracks_dict():\n",
    "    list_dicts = []\n",
    "    for url in artist_top_tracks():\n",
    "        response_artists = requests.get(url, headers=headers)\n",
    "        track_dict = json.loads(response_artists.content)\n",
    "        list_dicts.extend(track_dict['tracks'])\n",
    "    return list_dicts\n",
    "\n",
    "top_tracks_dict()\n",
    "\n",
    "a=50\n",
    "b=100\n",
    "def url_of_track_ids(a, b):\n",
    "    list[a:b]"
   ]
  },
  {
   "cell_type": "code",
   "execution_count": 1,
   "metadata": {},
   "outputs": [
    {
     "ename": "NameError",
     "evalue": "name 'all_album_ids' is not defined",
     "output_type": "error",
     "traceback": [
      "\u001b[0;31m---------------------------------------------------------------------------\u001b[0m",
      "\u001b[0;31mNameError\u001b[0m                                 Traceback (most recent call last)",
      "\u001b[0;32m<ipython-input-1-38206feb6b92>\u001b[0m in \u001b[0;36m<module>\u001b[0;34m()\u001b[0m\n\u001b[1;32m      4\u001b[0m     \u001b[0;32mreturn\u001b[0m \u001b[0malbum_sorted\u001b[0m\u001b[0;34m[\u001b[0m\u001b[0;34m:\u001b[0m\u001b[0;36m3\u001b[0m\u001b[0;34m]\u001b[0m\u001b[0;34m\u001b[0m\u001b[0m\n\u001b[1;32m      5\u001b[0m \u001b[0;34m\u001b[0m\u001b[0m\n\u001b[0;32m----> 6\u001b[0;31m \u001b[0msorted_album_freq\u001b[0m \u001b[0;34m=\u001b[0m \u001b[0malbum_freq\u001b[0m\u001b[0;34m(\u001b[0m\u001b[0mall_album_ids\u001b[0m\u001b[0;34m)\u001b[0m\u001b[0;34m\u001b[0m\u001b[0m\n\u001b[0m",
      "\u001b[0;31mNameError\u001b[0m: name 'all_album_ids' is not defined"
     ]
    }
   ],
   "source": [
    "def album_freq(all_album_ids):\n",
    "    album_freq_dict: [{'id': album, 'freq': all_album_ids.count(album)} for album in set(all_album_ids)]\n",
    "    album_sorted = sorted(album_freq_dict, key=lambda k: k['freq'], reverse=True)\n",
    "    return album_sorted[:3]\n",
    "\n",
    "sorted_album_freq = album_freq(all_album_ids)"
   ]
  },
  {
   "cell_type": "code",
   "execution_count": 226,
   "metadata": {},
   "outputs": [],
   "source": [
    "album_hist = {item['album']['artists'][0]['name']:{item['album']['name']:item['album']['id']} for item in top_tracks_dict()}\n",
    "# def count_freq_albums(album_hist):\n",
    "#     for item in top_tracks_dict():\n",
    "#         album_hist[[item]['album']['artists'][0]['name']][[item]['album']['name']] += 1\n",
    "#     return album_hist\n",
    "# count_freq_albums(album_hist)\n",
    "\n",
    "#function to pull list of album ids to call \n"
   ]
  },
  {
   "cell_type": "code",
   "execution_count": null,
   "metadata": {},
   "outputs": [],
   "source": []
  },
  {
   "cell_type": "code",
   "execution_count": 227,
   "metadata": {},
   "outputs": [
    {
     "ename": "KeyError",
     "evalue": "'albums'",
     "output_type": "error",
     "traceback": [
      "\u001b[0;31m---------------------------------------------------------------------------\u001b[0m",
      "\u001b[0;31mKeyError\u001b[0m                                  Traceback (most recent call last)",
      "\u001b[0;32m<ipython-input-227-bf3bbad398a6>\u001b[0m in \u001b[0;36m<module>\u001b[0;34m()\u001b[0m\n\u001b[1;32m      8\u001b[0m \u001b[0mresponse_albums\u001b[0m \u001b[0;34m=\u001b[0m \u001b[0mrequests\u001b[0m\u001b[0;34m.\u001b[0m\u001b[0mget\u001b[0m\u001b[0;34m(\u001b[0m\u001b[0murl_album_ids\u001b[0m\u001b[0;34m(\u001b[0m\u001b[0;34m)\u001b[0m\u001b[0;34m,\u001b[0m \u001b[0mheaders\u001b[0m\u001b[0;34m=\u001b[0m\u001b[0mheaders\u001b[0m\u001b[0;34m)\u001b[0m\u001b[0;34m\u001b[0m\u001b[0m\n\u001b[1;32m      9\u001b[0m \u001b[0malbums_raw\u001b[0m \u001b[0;34m=\u001b[0m \u001b[0mjson\u001b[0m\u001b[0;34m.\u001b[0m\u001b[0mloads\u001b[0m\u001b[0;34m(\u001b[0m\u001b[0mresponse_albums\u001b[0m\u001b[0;34m.\u001b[0m\u001b[0mcontent\u001b[0m\u001b[0;34m)\u001b[0m\u001b[0;34m\u001b[0m\u001b[0m\n\u001b[0;32m---> 10\u001b[0;31m \u001b[0malbums_clean\u001b[0m \u001b[0;34m=\u001b[0m \u001b[0;34m[\u001b[0m\u001b[0martist\u001b[0m \u001b[0;32mfor\u001b[0m \u001b[0martist\u001b[0m \u001b[0;32min\u001b[0m \u001b[0martists_raw\u001b[0m\u001b[0;34m[\u001b[0m\u001b[0;34m'albums'\u001b[0m\u001b[0;34m]\u001b[0m\u001b[0;34m]\u001b[0m\u001b[0;34m\u001b[0m\u001b[0m\n\u001b[0m\u001b[1;32m     11\u001b[0m \u001b[0;31m#dictionary with keys as Album name and values as list of tracks\u001b[0m\u001b[0;34m\u001b[0m\u001b[0;34m\u001b[0m\u001b[0m\n\u001b[1;32m     12\u001b[0m \u001b[0malbum_tracks_dict\u001b[0m \u001b[0;34m=\u001b[0m \u001b[0;34m{\u001b[0m\u001b[0malbum\u001b[0m\u001b[0;34m[\u001b[0m\u001b[0;34m'name'\u001b[0m\u001b[0;34m]\u001b[0m\u001b[0;34m:\u001b[0m\u001b[0malbum\u001b[0m\u001b[0;34m[\u001b[0m\u001b[0;34m'tracks'\u001b[0m\u001b[0;34m]\u001b[0m \u001b[0;32mfor\u001b[0m \u001b[0malbum\u001b[0m \u001b[0;32min\u001b[0m \u001b[0malbums_clean\u001b[0m\u001b[0;34m}\u001b[0m\u001b[0;34m\u001b[0m\u001b[0m\n",
      "\u001b[0;31mKeyError\u001b[0m: 'albums'"
     ]
    }
   ],
   "source": [
    "#urls for get album API's for each album id\n",
    "def url_album_ids():\n",
    "    list_album_ids = set([item['album']['id']for item in top_tracks_dict()])\n",
    "    merge = '%2c'.join(list_album_ids)\n",
    "    return \"https://api.spotify.com/v1/albums\"+ \"?ids=\" + merge\n",
    "\n",
    "#to call API for all albums\n",
    "response_albums = requests.get(url_album_ids(), headers=headers)\n",
    "albums_raw = json.loads(response_albums.content)\n",
    "albums_clean = [artist for artist in artists_raw['albums']]\n",
    "#dictionary with keys as Album name and values as list of tracks\n",
    "album_tracks_dict = {album['name']:album['tracks'] for album in albums_clean}\n",
    "#album_tracks_dict.keys()"
   ]
  },
  {
   "cell_type": "code",
   "execution_count": null,
   "metadata": {},
   "outputs": [],
   "source": [
    "#call all genres api\n",
    "def get_all_genres():\n",
    "    url_genres_all = 'https://api.spotify.com/v1/browse/categories?country=US'\n",
    "    response_genres = requests.get(url_genres_all, headers=headers)\n",
    "    genres_raw = json.loads(response_genres.content)\n",
    "    return [genre['id'] for genre in genres_raw['categories']['items']]"
   ]
  },
  {
   "cell_type": "code",
   "execution_count": 235,
   "metadata": {},
   "outputs": [],
   "source": [
    "#get list of urls for category playlists for api\n",
    "def url_category_playlists():\n",
    "    return ['https://api.spotify.com/v1/browse/categories/{category_id}/playlists'.format(category_id=genre)+\"?country=US\" for genre in get_all_genres()]\n",
    "\n",
    "def playlists_per_category():\n",
    "    playlists = []\n",
    "    for url in url_category_playlists():\n",
    "        response_playlists = requests.get(url, headers=headers)\n",
    "        playlist_cats = json.loads(response_playlists.content)\n",
    "        playlists.extend(playlist_cats['playlists']['items'])\n",
    "    return playlists\n",
    "\n"
   ]
  },
  {
   "cell_type": "code",
   "execution_count": 238,
   "metadata": {},
   "outputs": [
    {
     "data": {
      "text/plain": [
       "{'collaborative': False,\n",
       " 'external_urls': {'spotify': 'https://open.spotify.com/user/spotify/playlist/37i9dQZF1DXcBWIGoYBM5M'},\n",
       " 'href': 'https://api.spotify.com/v1/users/spotify/playlists/37i9dQZF1DXcBWIGoYBM5M',\n",
       " 'id': '37i9dQZF1DXcBWIGoYBM5M',\n",
       " 'images': [{'height': 300,\n",
       "   'url': 'https://i.scdn.co/image/952f2aadf7fac514fab389903c7be875be2267bc',\n",
       "   'width': 300}],\n",
       " 'name': \"Today's Top Hits\",\n",
       " 'owner': {'display_name': 'Spotify',\n",
       "  'external_urls': {'spotify': 'https://open.spotify.com/user/spotify'},\n",
       "  'href': 'https://api.spotify.com/v1/users/spotify',\n",
       "  'id': 'spotify',\n",
       "  'type': 'user',\n",
       "  'uri': 'spotify:user:spotify'},\n",
       " 'public': None,\n",
       " 'snapshot_id': 'dxQ4HtLB0OP+4J8wm7OkIzYwYVnXljYimcsvmN4BxzjjiEGtmFhqzBDNg/FNmuwZNowaMtDnG+w=',\n",
       " 'tracks': {'href': 'https://api.spotify.com/v1/users/spotify/playlists/37i9dQZF1DXcBWIGoYBM5M/tracks',\n",
       "  'total': 50},\n",
       " 'type': 'playlist',\n",
       " 'uri': 'spotify:user:spotify:playlist:37i9dQZF1DXcBWIGoYBM5M'}"
      ]
     },
     "execution_count": 238,
     "metadata": {},
     "output_type": "execute_result"
    }
   ],
   "source": [
    "playlists_per_category()[0]\n",
    "    "
   ]
  },
  {
   "cell_type": "code",
   "execution_count": 247,
   "metadata": {},
   "outputs": [],
   "source": [
    "#make dictionary of playlist_names and \n",
    "playlist_dict = [{(playlist['name'],playlist['id']):[playlist['tracks']]} for playlist in playlists_per_category()]\n",
    "\n",
    "#call each API for tracks for playlist\n",
    "#def tracks_per_playlist():\n",
    "    \n",
    "# response_genres = requests.get(url_genres_all, headers=headers)\n",
    "# genres_raw = json.loads(response_genres.content)"
   ]
  },
  {
   "cell_type": "code",
   "execution_count": 249,
   "metadata": {},
   "outputs": [
    {
     "data": {
      "text/plain": [
       "{(\"Today's Top Hits\",\n",
       "  '37i9dQZF1DXcBWIGoYBM5M'): [{'href': 'https://api.spotify.com/v1/users/spotify/playlists/37i9dQZF1DXcBWIGoYBM5M/tracks',\n",
       "   'total': 50}]}"
      ]
     },
     "execution_count": 249,
     "metadata": {},
     "output_type": "execute_result"
    }
   ],
   "source": [
    "playlist_dict[0]"
   ]
  },
  {
   "cell_type": "code",
   "execution_count": null,
   "metadata": {},
   "outputs": [],
   "source": [
    "response_genres = requests.get(url_genres_all, headers=headers)\n",
    "    genres_raw = json.loads(response_genres.content)"
   ]
  }
 ],
 "metadata": {
  "kernelspec": {
   "display_name": "Python 3",
   "language": "python",
   "name": "python3"
  },
  "language_info": {
   "codemirror_mode": {
    "name": "ipython",
    "version": 3
   },
   "file_extension": ".py",
   "mimetype": "text/x-python",
   "name": "python",
   "nbconvert_exporter": "python",
   "pygments_lexer": "ipython3",
   "version": "3.6.5"
  }
 },
 "nbformat": 4,
 "nbformat_minor": 2
}
