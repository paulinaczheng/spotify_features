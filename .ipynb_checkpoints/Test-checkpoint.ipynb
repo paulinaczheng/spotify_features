{
 "cells": [
  {
   "cell_type": "code",
   "execution_count": 188,
   "metadata": {},
   "outputs": [],
   "source": [
    "import requests\n",
    "import json\n",
    "api_key='BQAjoxz-T0toKtoWVW8NJklZ8g2j89JFNLgQEbvYJRM3lFCm6sDY5JhoD0cY6kG_AHecpuy2Mzj8tbFvucr1ncUGtEp71RtHclPes3lgrGaG05IEyQPJEIYOEvGTgCZ9vxaHvSu5lg'\n",
    "url_top_tracks = 'https://api.spotify.com/v1/artists/0TnOYISbd1XYRBk9myaseg/top-tracks?country=ES'\n",
    "url_track_features = 'https://api.spotify.com/v1/audio-features?ids=7ouMYWpwJ422jRcDASZB7P%2C4VqPOruhp5EdPBeR92t6lQ%2C2takcwOaAZWiXQijPHIx7B'\n",
    "url_categories = 'https://api.spotify.com/v1/browse/categories?country=SE&locale=sv_SE&limit=10&offset=5'\n",
    "url_category_playlists = 'https://api.spotify.com/v1/browse/categories/dinner/playlists?country=SE&limit=10&offset=5'\n",
    "url_playlist_tracks = 'https://api.spotify.com/v1/users/user/playlists/37i9dQZF1DX2RxBh64BHjQ/tracks?market=ES&limit=10&offset=5'\n",
    "url_album = 'https://api.spotify.com/v1/albums/4aawyAB9vmqN3uQ7FjRGTy?market=ES'\n",
    "url_album_tracks = 'https://api.spotify.com/v1/albums/4aawyAB9vmqN3uQ7FjRGTy/tracks?market=ES&limit=10&offset=5'\n",
    "url_artists = 'https://api.spotify.com/v1/artists?ids=2CIMQHirSU0MQqyYHq0eOx%2C57dN52uHvrHOxijzpIgu3E%2C1vCWHaC5f2uS3yhpwWbIA6'\n",
    "url_track = 'https://api.spotify.com/v1/tracks?ids=7ouMYWpwJ422jRcDASZB7P%2C4VqPOruhp5EdPBeR92t6lQ%2C2takcwOaAZWiXQijPHIx7B&market=ES'\n",
    "headers = {'Accept': 'application/json',\n",
    "\n",
    "'Content-Type': 'application/json',\n",
    "\n",
    "'Authorization': 'Bearer {}'.format(api_key)}\n",
    "response_tracks = requests.get(url_top_tracks, headers=headers)\n",
    "raw_tracks = json.loads(response_tracks.content)\n",
    "#get top tracks\n",
    "raw_tracks['tracks'][0].keys()\n",
    "raw_tracks['tracks'][0].keys()\n",
    "top_tracks = [data for data in raw_tracks['tracks']]\n",
    "\n",
    "#get categories\n",
    "response_categories = requests.get(url_categories, headers=headers)\n",
    "raw_categories = json.loads(response_categories.content)\n",
    "# categories = [data for data in'items']\n",
    "#categories and associated ids\n",
    "\n",
    "# #get playlists from category\n",
    "# response_cat_playlists = requests.get(url_category_playlists, headers=headers)\n",
    "# raw_cat_playlists = json.loads(response_cat_playlists.content)\n",
    "# category_playlists = [data for data in raw_cat_playlists['playlists']]\n",
    "# #with category id, get playlist ids (start with one)\n",
    "\n",
    "# #get tracks from playlist\n",
    "# response_playlist_tracks = requests.get(url_playlist_tracks, headers=headers)\n",
    "# raw_playlist_tracks = json.loads(response_playlist_tracks.content)\n",
    "# # playlist_tracks = [data for data in raw_playlist_tracks['playlists']]\n",
    "# raw_playlist_tracks['items']\n",
    "# #get tracks from playlists (using playlist ids)\n",
    "\n",
    "\n",
    "# #get track features \n",
    "# response_track_features = requests.get(url_track_features, headers=headers)\n",
    "# raw_track_features = json.loads(response_track_features.content)\n",
    "# # track_features = [data for data in raw_categories['audio_features']]\n",
    "\n",
    "# #get album\n",
    "# response_album_tracks = requests.get(url_album_tracks, headers=headers)\n",
    "# raw_album_tracks = json.loads(response_album_tracks.content)\n",
    "# # raw_album_tracks['items']\n",
    "\n",
    "# #get several artists\n",
    "# response_artists = requests.get(url_artists, headers=headers)\n",
    "# raw_artists = json.loads(response_artists.content)\n",
    "# clean_artists = [data for data in raw_artists['artists']]\n",
    "\n",
    "# raw_album_tracks.keys()"
   ]
  },
  {
   "cell_type": "code",
   "execution_count": null,
   "metadata": {},
   "outputs": [],
   "source": []
  },
  {
   "cell_type": "code",
   "execution_count": 52,
   "metadata": {},
   "outputs": [
    {
     "data": {
      "text/plain": [
       "{'categories': {'href': 'https://api.spotify.com/v1/browse/categories?country=SE&locale=sv_se&offset=5&limit=10',\n",
       "  'items': [{'href': 'https://api.spotify.com/v1/browse/categories/workout',\n",
       "    'icons': [{'height': None,\n",
       "      'url': 'https://t.scdn.co/media/links/workout-274x274.jpg',\n",
       "      'width': None}],\n",
       "    'id': 'workout',\n",
       "    'name': 'Träning'},\n",
       "   {'href': 'https://api.spotify.com/v1/browse/categories/chill',\n",
       "    'icons': [{'height': 274,\n",
       "      'url': 'https://t.scdn.co/media/derived/chill-274x274_4c46374f007813dd10b37e8d8fd35b4b_0_0_274_274.jpg',\n",
       "      'width': 274}],\n",
       "    'id': 'chill',\n",
       "    'name': 'Chill'},\n",
       "   {'href': 'https://api.spotify.com/v1/browse/categories/hiphop',\n",
       "    'icons': [{'height': 274,\n",
       "      'url': 'https://t.scdn.co/media/original/hip-274_0a661854d61e29eace5fe63f73495e68_274x274.jpg',\n",
       "      'width': 274}],\n",
       "    'id': 'hiphop',\n",
       "    'name': 'Hiphop'},\n",
       "   {'href': 'https://api.spotify.com/v1/browse/categories/edm_dance',\n",
       "    'icons': [{'height': 274,\n",
       "      'url': 'https://t.scdn.co/media/derived/edm-274x274_0ef612604200a9c14995432994455a6d_0_0_274_274.jpg',\n",
       "      'width': 274}],\n",
       "    'id': 'edm_dance',\n",
       "    'name': 'Electronic/Dance'},\n",
       "   {'href': 'https://api.spotify.com/v1/browse/categories/rnb',\n",
       "    'icons': [{'height': 274,\n",
       "      'url': 'https://t.scdn.co/media/derived/r-b-274x274_fd56efa72f4f63764b011b68121581d8_0_0_274_274.jpg',\n",
       "      'width': 274}],\n",
       "    'id': 'rnb',\n",
       "    'name': 'R&B'},\n",
       "   {'href': 'https://api.spotify.com/v1/browse/categories/rock',\n",
       "    'icons': [{'height': 274,\n",
       "      'url': 'https://t.scdn.co/media/derived/rock_9ce79e0a4ef901bbd10494f5b855d3cc_0_0_274_274.jpg',\n",
       "      'width': 274}],\n",
       "    'id': 'rock',\n",
       "    'name': 'Rock'},\n",
       "   {'href': 'https://api.spotify.com/v1/browse/categories/indie_alt',\n",
       "    'icons': [{'height': None,\n",
       "      'url': 'https://t.scdn.co/images/fe06caf056474bc58862591cd60b57fc.jpeg',\n",
       "      'width': None}],\n",
       "    'id': 'indie_alt',\n",
       "    'name': 'Indie'},\n",
       "   {'href': 'https://api.spotify.com/v1/browse/categories/focus',\n",
       "    'icons': [{'height': 274,\n",
       "      'url': 'https://t.scdn.co/media/original/genre-images-square-274x274_5e50d72b846a198fcd2ca9b3aef5f0c8_274x274.jpg',\n",
       "      'width': 274}],\n",
       "    'id': 'focus',\n",
       "    'name': 'Fokus'},\n",
       "   {'href': 'https://api.spotify.com/v1/browse/categories/dinner',\n",
       "    'icons': [{'height': 274,\n",
       "      'url': 'https://t.scdn.co/media/original/dinner_1b6506abba0ba52c54e6d695c8571078_274x274.jpg',\n",
       "      'width': 274}],\n",
       "    'id': 'dinner',\n",
       "    'name': 'Middag'},\n",
       "   {'href': 'https://api.spotify.com/v1/browse/categories/jazz',\n",
       "    'icons': [{'height': 274,\n",
       "      'url': 'https://t.scdn.co/media/derived/jazz-274x274_d6f407453a1f43d3163c55cca624a764_0_0_274_274.jpg',\n",
       "      'width': 274}],\n",
       "    'id': 'jazz',\n",
       "    'name': 'Jazz'}],\n",
       "  'limit': 10,\n",
       "  'next': 'https://api.spotify.com/v1/browse/categories?country=SE&locale=sv_se&offset=15&limit=10',\n",
       "  'offset': 5,\n",
       "  'previous': 'https://api.spotify.com/v1/browse/categories?country=SE&locale=sv_se&offset=0&limit=10',\n",
       "  'total': 34}}"
      ]
     },
     "execution_count": 52,
     "metadata": {},
     "output_type": "execute_result"
    }
   ],
   "source": [
    "response_categories = requests.get(url_categories, headers=headers)\n",
    "raw_categories = json.loads(response_categories.content)\n",
    "raw_categories"
   ]
  },
  {
   "cell_type": "code",
   "execution_count": 197,
   "metadata": {},
   "outputs": [],
   "source": [
    "response_categories = requests.get(url_categories, headers=headers)\n",
    "raw_categories = json.loads(response_categories.content)"
   ]
  },
  {
   "cell_type": "code",
   "execution_count": 50,
   "metadata": {},
   "outputs": [
    {
     "data": {
      "text/plain": [
       "dict_keys(['external_urls', 'followers', 'genres', 'href', 'id', 'images', 'name', 'popularity', 'type', 'uri'])"
      ]
     },
     "execution_count": 50,
     "metadata": {},
     "output_type": "execute_result"
    }
   ],
   "source": [
    "response_artists = requests.get(url_artists, headers=headers)\n",
    "raw_artists = json.loads(response_artists.content)\n",
    "clean_artists = [data for data in raw_artists['artists']]\n",
    "clean_artists[0]['followers']['total']\n",
    "clean_artists[0].keys()"
   ]
  },
  {
   "cell_type": "code",
   "execution_count": 42,
   "metadata": {},
   "outputs": [
    {
     "data": {
      "text/plain": [
       "'Globalization'"
      ]
     },
     "execution_count": 42,
     "metadata": {},
     "output_type": "execute_result"
    }
   ],
   "source": [
    "#get top tracks\n",
    "response_tracks = requests.get(url_top_tracks, headers=headers)\n",
    "raw_tracks = json.loads(response_tracks.content)\n",
    "raw_tracks['tracks'][0].keys()\n",
    "raw_tracks['tracks'][0].keys()\n",
    "top_tracks = [data for data in raw_tracks['tracks']]\n",
    "album_id = top_tracks[0]['album']['id']\n",
    "artist_name = top_tracks[1]['artists'][0]['name'] #list of dictionaries for each artist\n",
    "track_id = top_tracks[0]['id']\n",
    "track_name = top_tracks[0]['album']['name']\n",
    "track_name"
   ]
  },
  {
   "cell_type": "code",
   "execution_count": null,
   "metadata": {},
   "outputs": [],
   "source": [
    "\n",
    "def create_track(data):\n",
    "    for item in data:\n",
    "        artist_name =item['artists'][0]['name']\n",
    "        album_id = item['album']['id']\n",
    "        album_name = item['album']['name']\n",
    "        track_id = item['id']\n",
    "        track_name = item['name']\n",
    "        track_popularity = item['popularity']"
   ]
  },
  {
   "cell_type": "code",
   "execution_count": 25,
   "metadata": {},
   "outputs": [
    {
     "data": {
      "text/plain": [
       "'0TnOYISbd1XYRBk9myaseg'"
      ]
     },
     "execution_count": 25,
     "metadata": {},
     "output_type": "execute_result"
    }
   ],
   "source": [
    "#artist_id\n",
    "raw_album_tracks['items'][0]['artists'][0]['id'] #Or id \n",
    "\n",
    "# raw_album_tracks['items']"
   ]
  },
  {
   "cell_type": "code",
   "execution_count": 56,
   "metadata": {},
   "outputs": [
    {
     "data": {
      "text/plain": [
       "dict_keys(['external_urls', 'followers', 'genres', 'href', 'id', 'images', 'name', 'popularity', 'type', 'uri'])"
      ]
     },
     "execution_count": 56,
     "metadata": {},
     "output_type": "execute_result"
    }
   ],
   "source": [
    "#artists followers\n",
    "clean_artists[0]['followers']['total']\n",
    "#artist genres\n",
    "clean_artists[0]['genres']\n",
    "# #artist id\n",
    "# clean_artists[0]['id']\n",
    "# #artist popularity\n",
    "# clean_artists[0]['popularity']\n",
    "# #artist name\n",
    "# clean_artists[0]['name']\n",
    "# #artist name\n",
    "clean_artists[0].keys()\n"
   ]
  },
  {
   "cell_type": "code",
   "execution_count": null,
   "metadata": {},
   "outputs": [],
   "source": [
    "for i in raw_cat_playlists['tracks'][0]:\n",
    "    print(i)\n",
    "    value = raw_categories['tracks'][0][i]\n",
    "    print(type(value))"
   ]
  },
  {
   "cell_type": "code",
   "execution_count": 122,
   "metadata": {},
   "outputs": [
    {
     "data": {
      "text/plain": [
       "'0TnOYISbd1XYRBk9myaseg'"
      ]
     },
     "execution_count": 122,
     "metadata": {},
     "output_type": "execute_result"
    }
   ],
   "source": [
    "#get album\n",
    "response_album_tracks = requests.get(url_album_tracks, headers=headers)\n",
    "raw_album_tracks = json.loads(response_album_tracks.content)\n",
    "# raw_album_tracks['items']\n",
    "raw_album_tracks['artists']\n",
    "# clean_altracks = raw_album_tracks['items']\n",
    "# clean_altracks[4]['artists'][0]['name']\n",
    "# clean_altracks[0]\n",
    "raw_album_tracks.keys()\n",
    "raw_album_tracks['artists'][0]['id']\n"
   ]
  },
  {
   "cell_type": "code",
   "execution_count": 129,
   "metadata": {},
   "outputs": [
    {
     "data": {
      "text/plain": [
       "'0TnOYISbd1XYRBk9myaseg'"
      ]
     },
     "execution_count": 129,
     "metadata": {},
     "output_type": "execute_result"
    }
   ],
   "source": [
    "response_albums = requests.get(url_album, headers=headers)\n",
    "raw_albums = json.loads(response_albums.content)\n",
    "raw_albums.keys()\n",
    "raw_albums['artists'][0]['id']"
   ]
  },
  {
   "cell_type": "code",
   "execution_count": 154,
   "metadata": {},
   "outputs": [
    {
     "data": {
      "text/plain": [
       "dict_keys(['href', 'items', 'limit', 'next', 'offset', 'previous', 'total'])"
      ]
     },
     "execution_count": 154,
     "metadata": {},
     "output_type": "execute_result"
    }
   ],
   "source": [
    "response_album_tracks = requests.get(url_album_tracks, headers=headers)\n",
    "raw_album_tracks = json.loads(response_album_tracks.content)\n",
    "# raw_album_tracks['items']\n",
    "raw_album_tracks['href']"
   ]
  },
  {
   "cell_type": "code",
   "execution_count": 178,
   "metadata": {},
   "outputs": [
    {
     "data": {
      "text/plain": [
       "{'album': {'album_type': 'album',\n",
       "  'artists': [{'external_urls': {'spotify': 'https://open.spotify.com/artist/12Chz98pHFMPJEknJQMWvI'},\n",
       "    'href': 'https://api.spotify.com/v1/artists/12Chz98pHFMPJEknJQMWvI',\n",
       "    'id': '12Chz98pHFMPJEknJQMWvI',\n",
       "    'name': 'Muse',\n",
       "    'type': 'artist',\n",
       "    'uri': 'spotify:artist:12Chz98pHFMPJEknJQMWvI'}],\n",
       "  'external_urls': {'spotify': 'https://open.spotify.com/album/0lw68yx3MhKflWFqCsGkIs'},\n",
       "  'href': 'https://api.spotify.com/v1/albums/0lw68yx3MhKflWFqCsGkIs',\n",
       "  'id': '0lw68yx3MhKflWFqCsGkIs',\n",
       "  'images': [{'height': 640,\n",
       "    'url': 'https://i.scdn.co/image/9e5288926fadb82f873ccf2b45300c3a6f65fa14',\n",
       "    'width': 640},\n",
       "   {'height': 300,\n",
       "    'url': 'https://i.scdn.co/image/f1cad0d6974d6236abd07a59106e8450d85cae24',\n",
       "    'width': 300},\n",
       "   {'height': 64,\n",
       "    'url': 'https://i.scdn.co/image/81a3f82578dc938c53efdcb405f6a3d3ebbf009f',\n",
       "    'width': 64}],\n",
       "  'name': 'Black Holes And Revelations',\n",
       "  'release_date': '2006-06-19',\n",
       "  'release_date_precision': 'day',\n",
       "  'type': 'album',\n",
       "  'uri': 'spotify:album:0lw68yx3MhKflWFqCsGkIs'},\n",
       " 'artists': [{'external_urls': {'spotify': 'https://open.spotify.com/artist/12Chz98pHFMPJEknJQMWvI'},\n",
       "   'href': 'https://api.spotify.com/v1/artists/12Chz98pHFMPJEknJQMWvI',\n",
       "   'id': '12Chz98pHFMPJEknJQMWvI',\n",
       "   'name': 'Muse',\n",
       "   'type': 'artist',\n",
       "   'uri': 'spotify:artist:12Chz98pHFMPJEknJQMWvI'}],\n",
       " 'disc_number': 1,\n",
       " 'duration_ms': 366213,\n",
       " 'explicit': False,\n",
       " 'external_ids': {'isrc': 'GBAHT0500600'},\n",
       " 'external_urls': {'spotify': 'https://open.spotify.com/track/7ouMYWpwJ422jRcDASZB7P'},\n",
       " 'href': 'https://api.spotify.com/v1/tracks/7ouMYWpwJ422jRcDASZB7P',\n",
       " 'id': '7ouMYWpwJ422jRcDASZB7P',\n",
       " 'is_local': False,\n",
       " 'is_playable': True,\n",
       " 'name': 'Knights Of Cydonia',\n",
       " 'popularity': 68,\n",
       " 'preview_url': 'https://p.scdn.co/mp3-preview/d7624ec5f93b6d92c1836a95c40ecce463584f6e?cid=774b29d4f13844c495f206cafdad9c86',\n",
       " 'track_number': 11,\n",
       " 'type': 'track',\n",
       " 'uri': 'spotify:track:7ouMYWpwJ422jRcDASZB7P'}"
      ]
     },
     "execution_count": 178,
     "metadata": {},
     "output_type": "execute_result"
    }
   ],
   "source": [
    "response_track1 = requests.get(url_track, headers=headers)\n",
    "raw_track1 = json.loads(response_track1.content)\n",
    "raw_track1['tracks'][0]"
   ]
  },
  {
   "cell_type": "code",
   "execution_count": 181,
   "metadata": {},
   "outputs": [
    {
     "data": {
      "text/plain": [
       "dict_keys(['album', 'artists', 'disc_number', 'duration_ms', 'explicit', 'external_ids', 'external_urls', 'href', 'id', 'is_local', 'is_playable', 'name', 'popularity', 'preview_url', 'track_number', 'type', 'uri'])"
      ]
     },
     "execution_count": 181,
     "metadata": {},
     "output_type": "execute_result"
    }
   ],
   "source": [
    "raw_track1['tracks'][0].keys()"
   ]
  },
  {
   "cell_type": "code",
   "execution_count": 203,
   "metadata": {},
   "outputs": [
    {
     "data": {
      "text/plain": [
       "{'collaborative': False,\n",
       " 'external_urls': {'spotify': 'https://open.spotify.com/user/spotify/playlist/37i9dQZF1DX6T7BDvbGhmT'},\n",
       " 'href': 'https://api.spotify.com/v1/users/spotify/playlists/37i9dQZF1DX6T7BDvbGhmT',\n",
       " 'id': '37i9dQZF1DX6T7BDvbGhmT',\n",
       " 'images': [{'height': 300,\n",
       "   'url': 'https://i.scdn.co/image/95801bc1bd70d0b3cf892784066f1adb03020dd1',\n",
       "   'width': 300}],\n",
       " 'name': 'Dinner Romance',\n",
       " 'owner': {'display_name': 'Spotify',\n",
       "  'external_urls': {'spotify': 'https://open.spotify.com/user/spotify'},\n",
       "  'href': 'https://api.spotify.com/v1/users/spotify',\n",
       "  'id': 'spotify',\n",
       "  'type': 'user',\n",
       "  'uri': 'spotify:user:spotify'},\n",
       " 'public': None,\n",
       " 'snapshot_id': '5mvQzY7W8GQKVjWLZKmfp+oTioPeJOH0J5c/O7CJACitryvExgBDqB6DIQYRFAy8Lls5NACknEg=',\n",
       " 'tracks': {'href': 'https://api.spotify.com/v1/users/spotify/playlists/37i9dQZF1DX6T7BDvbGhmT/tracks',\n",
       "  'total': 73},\n",
       " 'type': 'playlist',\n",
       " 'uri': 'spotify:user:spotify:playlist:37i9dQZF1DX6T7BDvbGhmT'}"
      ]
     },
     "execution_count": 203,
     "metadata": {},
     "output_type": "execute_result"
    }
   ],
   "source": [
    "raw_track1['tracks'][0]['album']['release_date']\n",
    "# def album_tracks(data):\n",
    "#     for item in data:\n",
    "#         name = item['name']\n",
    "#         spotify_id = item['id']\n",
    "#         artist_spotify_id = item['artists'][0]['id']\n",
    "#         artist = check_other_class(all_artists, artist_spotify_id)\n",
    "#         all_tracks.append(Track(name=name, spotify_id=spotify_id, artist=artist, artist_id=artist.id))\n",
    "#     return all_tracks\n",
    "\n",
    "response_cat_playlists = requests.get(url_category_playlists, headers=headers)\n",
    "raw_cat_playlists = json.loads(response_cat_playlists.content)\n",
    "raw_cat_playlists['playlists']['items'][0]"
   ]
  },
  {
   "cell_type": "code",
   "execution_count": null,
   "metadata": {},
   "outputs": [],
   "source": [
    "all_genres = []\n",
    "def find_or_create_genre(genre_list):\n",
    "    genre_objs = []\n",
    "    genre_names = [genre.name for genre in all_genres]\n",
    "    for genre in genre_list:\n",
    "        if genre not in genre_names:\n",
    "            all_genres.append(Genre(name=genre))\n",
    "            genre_objs.append(Genre(name=genre))\n",
    "        else:\n",
    "            genre_objs.append()\n",
    "    return genre_objs\n",
    "\n",
    "all_artists = [] \n",
    "def artist(data):\n",
    "    for item in data:\n",
    "        name = item['name']\n",
    "        spotify_id = item['id']\n",
    "        popularity = item['popularity']\n",
    "        followers = item['followers']['total']\n",
    "        genres = item['genres']\n",
    "        genre_objects = find_or_create_genre(genres)\n",
    "        all_artists.append(Artist(spotify_id=spotify_id, name=name, popularity=popularity, followers=followers, genres = genre_objects))\n",
    "    return all_artists\n",
    "\n",
    "def check_other_class(all_objects, object_spotify_id):\n",
    "    for instance in all_objects:\n",
    "        if instance.spotify_id == object_spotify_id:\n",
    "            return instance\n",
    "#get album\n",
    "all_albums = []\n",
    "def album(data):\n",
    "    for item in data:\n",
    "        name = item['name']\n",
    "        spotify_id = item['id']\n",
    "        release_date = item['release_date']\n",
    "        artist_spotify_id = item['artists'][0]['id']\n",
    "        artist = check_other_class(all_artists, artist_spotify_id)\n",
    "        all_albums.append(Album(spotify_id=spotify_id, name=name, artist_id=artist.id, artist=artist))\n",
    "    return all_albums\n",
    "\n",
    "all_tracks = []\n",
    "def track(data):\n",
    "    for item in data:\n",
    "        album_spotify_id = item['album']['id']\n",
    "        artist_spotify_id = item['artists'][0]['id']\n",
    "        spotify_id = item['id']\n",
    "        track_popularity = item['popularity']\n",
    "        name = item['name']\n",
    "        artist = check_other_class(all_artists, artist_spotify_id) \n",
    "        album = check_other_class(all_albums, album_spotify_id)\n",
    "        all_tracks.append(Track(name=name, spotify_id=spotify_id, artist=artist, artist_id=artist.id, album=album, album_id=album.id))\n",
    "\n",
    "all_playlists = []\n",
    "def playlists(data):\n",
    "    for item in data:\n",
    "        spotify_id = item['id']\n",
    "        "
   ]
  }
 ],
 "metadata": {
  "kernelspec": {
   "display_name": "Python 3",
   "language": "python",
   "name": "python3"
  },
  "language_info": {
   "codemirror_mode": {
    "name": "ipython",
    "version": 3
   },
   "file_extension": ".py",
   "mimetype": "text/x-python",
   "name": "python",
   "nbconvert_exporter": "python",
   "pygments_lexer": "ipython3",
   "version": "3.6.5"
  }
 },
 "nbformat": 4,
 "nbformat_minor": 2
}
