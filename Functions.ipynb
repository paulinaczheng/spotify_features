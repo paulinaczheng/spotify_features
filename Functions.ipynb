{
 "cells": [
  {
   "cell_type": "code",
   "execution_count": 56,
   "metadata": {},
   "outputs": [],
   "source": [
    "import requests\n",
    "import json\n",
    "api_key='BQAzv9Dbl21gSKvxw0eRUoIcSCwvjPepoxmAFccYI1-lzdNBB0-kMqkiWI4eu1l3S5pt8x9ChQTVatI5Ua44jcwBu89ULOzGQkP7hGEf_dvsHjFR3X9o65jZwR3eCM57-C2pwniSrQ'\n",
    "headers = {'Accept': 'application/json',\n",
    "'Content-Type': 'application/json',\n",
    "'Authorization': 'Bearer {}'.format(api_key)}"
   ]
  },
  {
   "cell_type": "code",
   "execution_count": 8,
   "metadata": {},
   "outputs": [
    {
     "data": {
      "text/plain": [
       "['big room', 'edm', 'electro house', 'progressive house']"
      ]
     },
     "execution_count": 8,
     "metadata": {},
     "output_type": "execute_result"
    }
   ],
   "source": [
    "#Get several artists API\n",
    "artist_url = 'https://api.spotify.com/v1/artists?ids=2CIMQHirSU0MQqyYHq0eOx%2C57dN52uHvrHOxijzpIgu3E%2C1vCWHaC5f2uS3yhpwWbIA6'\n",
    "response_artists = requests.get(artist_url, headers=headers)\n",
    "raw_artists = json.loads(response_artists.content)\n",
    "clean_artists = [data for data in raw_artists['artists']]\n",
    "clean_artists[0]['genres']"
   ]
  },
  {
   "cell_type": "code",
   "execution_count": 19,
   "metadata": {},
   "outputs": [
    {
     "data": {
      "text/plain": [
       "'4EUf4YyNjuXypWY6W5wEDm'"
      ]
     },
     "execution_count": 19,
     "metadata": {},
     "output_type": "execute_result"
    }
   ],
   "source": [
    "#Get artist top tracks API\n",
    "artist_top_tracks_url = 'https://api.spotify.com/v1/artists/0TnOYISbd1XYRBk9myaseg/top-tracks?country=ES'\n",
    "response_artist_top_tracks = requests.get(artist_top_tracks_url, headers=headers)\n",
    "raw_artist_top_tracks = json.loads(response_artist_top_tracks.content)\n",
    "clean_artist_top_tracks = [data for data in raw_artist_top_tracks['tracks']]\n",
    "clean_artist_top_tracks[0]['album']['id']"
   ]
  },
  {
   "cell_type": "code",
   "execution_count": 32,
   "metadata": {},
   "outputs": [
    {
     "data": {
      "text/plain": [
       "'6Q4PYJtrq8CBx7YCY5IyRN'"
      ]
     },
     "execution_count": 32,
     "metadata": {},
     "output_type": "execute_result"
    }
   ],
   "source": [
    "#Get album tracks API\n",
    "album_tracks_url = 'https://api.spotify.com/v1/albums/4aawyAB9vmqN3uQ7FjRGTy/tracks?market=ES&limit=10&offset=5'\n",
    "response_album_tracks = requests.get(album_tracks_url, headers=headers)\n",
    "raw_album_tracks = json.loads(response_album_tracks.content)\n",
    "clean_album_tracks = [data for data in raw_album_tracks['items']]\n",
    "clean_album_tracks[0]['id']"
   ]
  },
  {
   "cell_type": "code",
   "execution_count": 54,
   "metadata": {},
   "outputs": [
    {
     "data": {
      "text/plain": [
       "'37i9dQZF1DX6T7BDvbGhmT'"
      ]
     },
     "execution_count": 54,
     "metadata": {},
     "output_type": "execute_result"
    }
   ],
   "source": [
    "#Get category playlists API\n",
    "cat_playlist_url = 'https://api.spotify.com/v1/browse/categories/dinner/playlists?country=SE&limit=10&offset=5'\n",
    "response_cat_playlist = requests.get(cat_playlist_url, headers=headers)\n",
    "raw_cat_playlist = json.loads(response_cat_playlist.content)\n",
    "clean_cat_playlist = [data for data in raw_cat_playlist['playlists']['items']]\n",
    "clean_cat_playlist[0]['id']"
   ]
  },
  {
   "cell_type": "code",
   "execution_count": 73,
   "metadata": {},
   "outputs": [
    {
     "data": {
      "text/plain": [
       "'1HNkqx9Ahdgi1Ixy2xkKkL'"
      ]
     },
     "execution_count": 73,
     "metadata": {},
     "output_type": "execute_result"
    }
   ],
   "source": [
    "#Get playlist tracks\n",
    "playlist_tracks_url = 'https://api.spotify.com/v1/users/user/playlists/37i9dQZF1DX6T7BDvbGhmT/tracks?market=ES&limit=10&offset=5'\n",
    "response_playlist_tracks = requests.get(playlist_tracks_url, headers=headers)\n",
    "raw_playlist_tracks = json.loads(response_playlist_tracks.content)\n",
    "clean_playlist_tracks = [data for data in raw_playlist_tracks['items']]\n",
    "clean_playlist_tracks[0]['track']['id']"
   ]
  },
  {
   "cell_type": "code",
   "execution_count": null,
   "metadata": {},
   "outputs": [],
   "source": [
    "#Create genres for artists\n",
    "all_genres = []\n",
    "def find_or_create_genre(genre_list):\n",
    "    genre_objs = []\n",
    "    for genre in genre_list:\n",
    "        for instance in all_genres:\n",
    "            if genre != instance.name:\n",
    "                all_genres.append(Genre(name=genre))\n",
    "                genre_objs.append(Genre(name=genre))\n",
    "            else:\n",
    "                genre_objs.append(instance)\n",
    "    return genre_objs"
   ]
  },
  {
   "cell_type": "code",
   "execution_count": null,
   "metadata": {},
   "outputs": [],
   "source": [
    "#Get Several Artists\n",
    "all_artists = [] \n",
    "def artist(data):\n",
    "    for item in data:\n",
    "        name = item['name']\n",
    "        spotify_id = item['id']\n",
    "        popularity = item['popularity']\n",
    "        followers = item['followers']['total']\n",
    "        genres = item['genres']\n",
    "        genre_objects = find_or_create_genre(genres)\n",
    "        all_artists.append(Artist(spotify_id=spotify_id, name=name, popularity=popularity, followers=followers, genres = genre_objects))\n",
    "    return all_artists"
   ]
  },
  {
   "cell_type": "code",
   "execution_count": null,
   "metadata": {},
   "outputs": [],
   "source": [
    "#Get genre names\n",
    "def genre_names(all_genres):\n",
    "    return [genre.name for genre in all_genres]"
   ]
  },
  {
   "cell_type": "code",
   "execution_count": null,
   "metadata": {},
   "outputs": [],
   "source": [
    "#Get artist top tracks\n",
    "all_track_ids = []\n",
    "all_album_ids = []\n",
    "def artist_top_tracks(data):\n",
    "    #local variable, artist-dependent\n",
    "    top_track_names = []\n",
    "    for item in data:\n",
    "        top_track_names.append(item['name'])\n",
    "        all_track_ids.append(item['id'])\n",
    "        #check to see if album isn't already in all_album_ids list before adding to the list:\n",
    "        if item['album']['id'] not in all_album_ids:\n",
    "            all_album_ids.append(item['album']['id'])\n",
    "    return top_track_names"
   ]
  },
  {
   "cell_type": "code",
   "execution_count": null,
   "metadata": {},
   "outputs": [],
   "source": [
    "#Get album tracks\n",
    "def album_tracks(data):\n",
    "    for item in data:\n",
    "        #check if track_id isn't already in all_track_ids before adding to list:\n",
    "        if item['id'] not in all_track_ids:\n",
    "            all_track_ids.append(item['id'])\n",
    "    return all_track_ids #don't need to "
   ]
  },
  {
   "cell_type": "code",
   "execution_count": null,
   "metadata": {},
   "outputs": [],
   "source": [
    "#Get first category playlist id\n",
    "playlist_ids = []\n",
    "def category_playlist(data):\n",
    "    if data[0]['id'] not in playlist_ids:\n",
    "        playlist_ids.append(data[0]['id'])\n",
    "    return playlist_ids #don't need to "
   ]
  },
  {
   "cell_type": "code",
   "execution_count": null,
   "metadata": {},
   "outputs": [],
   "source": [
    "#Get playlist tracks\n",
    "def playlist_tracks(data):\n",
    "    for item in data:\n",
    "        if item['track']['id'] not in all_track_ids:\n",
    "            all_track_ids.append(item['track']['id'])\n",
    "    return all_track_ids #don't need to"
   ]
  }
 ],
 "metadata": {
  "kernelspec": {
   "display_name": "Python 3",
   "language": "python",
   "name": "python3"
  },
  "language_info": {
   "codemirror_mode": {
    "name": "ipython",
    "version": 3
   },
   "file_extension": ".py",
   "mimetype": "text/x-python",
   "name": "python",
   "nbconvert_exporter": "python",
   "pygments_lexer": "ipython3",
   "version": "3.6.5"
  }
 },
 "nbformat": 4,
 "nbformat_minor": 2
}
