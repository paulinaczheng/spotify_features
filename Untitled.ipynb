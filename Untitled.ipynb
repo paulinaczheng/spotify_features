{
 "cells": [
  {
   "cell_type": "code",
   "execution_count": 4,
   "metadata": {},
   "outputs": [
    {
     "data": {
      "text/html": [
       "<script>requirejs.config({paths: { 'plotly': ['https://cdn.plot.ly/plotly-latest.min']},});if(!window.Plotly) {{require(['plotly'],function(plotly) {window.Plotly=plotly;});}}</script>"
      ],
      "text/vnd.plotly.v1+html": [
       "<script>requirejs.config({paths: { 'plotly': ['https://cdn.plot.ly/plotly-latest.min']},});if(!window.Plotly) {{require(['plotly'],function(plotly) {window.Plotly=plotly;});}}</script>"
      ]
     },
     "metadata": {},
     "output_type": "display_data"
    }
   ],
   "source": [
    "import plotly\n",
    "from plotly.offline import iplot, init_notebook_mode\n",
    "init_notebook_mode(connected=True)"
   ]
  },
  {
   "cell_type": "code",
   "execution_count": 9,
   "metadata": {},
   "outputs": [
    {
     "data": {
      "application/vnd.plotly.v1+json": {
       "data": [
        {
         "name": "Feature Averages for Charlie Puth",
         "type": "bar",
         "uid": "e695ed18-8df3-11e8-bf27-6030d45bf32e",
         "x": [
          "danceability",
          "energy",
          "acousticness",
          "valence",
          "tempo"
         ],
         "y": [
          0.64,
          0.58,
          0.46,
          0.59,
          119.14
         ]
        }
       ],
       "layout": {}
      },
      "text/html": [
       "<div id=\"3d108e83-898a-4b8f-9034-d725f680a252\" style=\"height: 525px; width: 100%;\" class=\"plotly-graph-div\"></div><script type=\"text/javascript\">require([\"plotly\"], function(Plotly) { window.PLOTLYENV=window.PLOTLYENV || {};window.PLOTLYENV.BASE_URL=\"https://plot.ly\";Plotly.newPlot(\"3d108e83-898a-4b8f-9034-d725f680a252\", [{\"name\": \"Feature Averages for Charlie Puth\", \"x\": [\"danceability\", \"energy\", \"acousticness\", \"valence\", \"tempo\"], \"y\": [0.64, 0.58, 0.46, 0.59, 119.14], \"type\": \"bar\", \"uid\": \"e6a1499a-8df3-11e8-bfad-6030d45bf32e\"}], {}, {\"showLink\": true, \"linkText\": \"Export to plot.ly\"})});</script>"
      ],
      "text/vnd.plotly.v1+html": [
       "<div id=\"3d108e83-898a-4b8f-9034-d725f680a252\" style=\"height: 525px; width: 100%;\" class=\"plotly-graph-div\"></div><script type=\"text/javascript\">require([\"plotly\"], function(Plotly) { window.PLOTLYENV=window.PLOTLYENV || {};window.PLOTLYENV.BASE_URL=\"https://plot.ly\";Plotly.newPlot(\"3d108e83-898a-4b8f-9034-d725f680a252\", [{\"name\": \"Feature Averages for Charlie Puth\", \"x\": [\"danceability\", \"energy\", \"acousticness\", \"valence\", \"tempo\"], \"y\": [0.64, 0.58, 0.46, 0.59, 119.14], \"type\": \"bar\", \"uid\": \"e6a1499a-8df3-11e8-bfad-6030d45bf32e\"}], {}, {\"showLink\": true, \"linkText\": \"Export to plot.ly\"})});</script>"
      ]
     },
     "metadata": {},
     "output_type": "display_data"
    }
   ],
   "source": [
    "bar_trace = {'name': 'Feature Averages for Charlie Puth', 'x': ['danceability', 'energy', 'acousticness', 'valence', 'tempo'], 'y': [0.64, 0.58, 0.46, 0.59, 119.14], 'type': 'bar'}\n",
    "\n",
    "plotly.offline.iplot([\n",
    "    bar_trace\n",
    "])"
   ]
  },
  {
   "cell_type": "code",
   "execution_count": null,
   "metadata": {},
   "outputs": [],
   "source": []
  }
 ],
 "metadata": {
  "kernelspec": {
   "display_name": "Python 3",
   "language": "python",
   "name": "python3"
  },
  "language_info": {
   "codemirror_mode": {
    "name": "ipython",
    "version": 3
   },
   "file_extension": ".py",
   "mimetype": "text/x-python",
   "name": "python",
   "nbconvert_exporter": "python",
   "pygments_lexer": "ipython3",
   "version": "3.6.5"
  }
 },
 "nbformat": 4,
 "nbformat_minor": 2
}
